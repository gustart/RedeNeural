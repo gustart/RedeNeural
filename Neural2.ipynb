{
  "nbformat": 4,
  "nbformat_minor": 0,
  "metadata": {
    "colab": {
      "provenance": []
    },
    "kernelspec": {
      "name": "python3",
      "display_name": "Python 3"
    },
    "language_info": {
      "name": "python"
    }
  },
  "cells": [
    {
      "cell_type": "code",
      "execution_count": 2,
      "metadata": {
        "id": "DBjVKieMj5yn"
      },
      "outputs": [],
      "source": [
        "import pandas as pd\n",
        "from sklearn.model_selection import train_test_split\n",
        "from sklearn.preprocessing import LabelEncoder\n",
        "from sklearn.metrics import confusion_matrix, accuracy_score\n",
        "from sklearn.ensemble import RandomForestClassifier\n",
        "from keras.models import Sequential\n",
        "from keras.layers import Dense, Dropout, Flatten, Embedding\n",
        "from keras.preprocessing.text import Tokenizer\n",
        "from keras_preprocessing.sequence import pad_sequences\n",
        "from google.colab import files"
      ]
    },
    {
      "cell_type": "code",
      "source": [
        "files.upload()"
      ],
      "metadata": {
        "id": "fn5f0AOdlKXg"
      },
      "execution_count": null,
      "outputs": []
    },
    {
      "cell_type": "code",
      "source": [
        "spam = pd.read_csv(\"spam.csv\")\n",
        "spam.head()"
      ],
      "metadata": {
        "id": "VwtdASNmlpKI",
        "colab": {
          "base_uri": "https://localhost:8080/",
          "height": 206
        },
        "outputId": "cc772294-edbf-4b0b-c86c-2acfb1bd8b78"
      },
      "execution_count": 4,
      "outputs": [
        {
          "output_type": "execute_result",
          "data": {
            "text/plain": [
              "  Category                                            Message\n",
              "0      ham  Go until jurong point, crazy.. Available only ...\n",
              "1      ham                      Ok lar... Joking wif u oni...\n",
              "2     spam  Free entry in 2 a wkly comp to win FA Cup fina...\n",
              "3      ham  U dun say so early hor... U c already then say...\n",
              "4      ham  Nah I don't think he goes to usf, he lives aro..."
            ],
            "text/html": [
              "\n",
              "  <div id=\"df-f314a5a4-44cf-4549-873a-b36ac1bcd2a3\">\n",
              "    <div class=\"colab-df-container\">\n",
              "      <div>\n",
              "<style scoped>\n",
              "    .dataframe tbody tr th:only-of-type {\n",
              "        vertical-align: middle;\n",
              "    }\n",
              "\n",
              "    .dataframe tbody tr th {\n",
              "        vertical-align: top;\n",
              "    }\n",
              "\n",
              "    .dataframe thead th {\n",
              "        text-align: right;\n",
              "    }\n",
              "</style>\n",
              "<table border=\"1\" class=\"dataframe\">\n",
              "  <thead>\n",
              "    <tr style=\"text-align: right;\">\n",
              "      <th></th>\n",
              "      <th>Category</th>\n",
              "      <th>Message</th>\n",
              "    </tr>\n",
              "  </thead>\n",
              "  <tbody>\n",
              "    <tr>\n",
              "      <th>0</th>\n",
              "      <td>ham</td>\n",
              "      <td>Go until jurong point, crazy.. Available only ...</td>\n",
              "    </tr>\n",
              "    <tr>\n",
              "      <th>1</th>\n",
              "      <td>ham</td>\n",
              "      <td>Ok lar... Joking wif u oni...</td>\n",
              "    </tr>\n",
              "    <tr>\n",
              "      <th>2</th>\n",
              "      <td>spam</td>\n",
              "      <td>Free entry in 2 a wkly comp to win FA Cup fina...</td>\n",
              "    </tr>\n",
              "    <tr>\n",
              "      <th>3</th>\n",
              "      <td>ham</td>\n",
              "      <td>U dun say so early hor... U c already then say...</td>\n",
              "    </tr>\n",
              "    <tr>\n",
              "      <th>4</th>\n",
              "      <td>ham</td>\n",
              "      <td>Nah I don't think he goes to usf, he lives aro...</td>\n",
              "    </tr>\n",
              "  </tbody>\n",
              "</table>\n",
              "</div>\n",
              "      <button class=\"colab-df-convert\" onclick=\"convertToInteractive('df-f314a5a4-44cf-4549-873a-b36ac1bcd2a3')\"\n",
              "              title=\"Convert this dataframe to an interactive table.\"\n",
              "              style=\"display:none;\">\n",
              "        \n",
              "  <svg xmlns=\"http://www.w3.org/2000/svg\" height=\"24px\"viewBox=\"0 0 24 24\"\n",
              "       width=\"24px\">\n",
              "    <path d=\"M0 0h24v24H0V0z\" fill=\"none\"/>\n",
              "    <path d=\"M18.56 5.44l.94 2.06.94-2.06 2.06-.94-2.06-.94-.94-2.06-.94 2.06-2.06.94zm-11 1L8.5 8.5l.94-2.06 2.06-.94-2.06-.94L8.5 2.5l-.94 2.06-2.06.94zm10 10l.94 2.06.94-2.06 2.06-.94-2.06-.94-.94-2.06-.94 2.06-2.06.94z\"/><path d=\"M17.41 7.96l-1.37-1.37c-.4-.4-.92-.59-1.43-.59-.52 0-1.04.2-1.43.59L10.3 9.45l-7.72 7.72c-.78.78-.78 2.05 0 2.83L4 21.41c.39.39.9.59 1.41.59.51 0 1.02-.2 1.41-.59l7.78-7.78 2.81-2.81c.8-.78.8-2.07 0-2.86zM5.41 20L4 18.59l7.72-7.72 1.47 1.35L5.41 20z\"/>\n",
              "  </svg>\n",
              "      </button>\n",
              "      \n",
              "  <style>\n",
              "    .colab-df-container {\n",
              "      display:flex;\n",
              "      flex-wrap:wrap;\n",
              "      gap: 12px;\n",
              "    }\n",
              "\n",
              "    .colab-df-convert {\n",
              "      background-color: #E8F0FE;\n",
              "      border: none;\n",
              "      border-radius: 50%;\n",
              "      cursor: pointer;\n",
              "      display: none;\n",
              "      fill: #1967D2;\n",
              "      height: 32px;\n",
              "      padding: 0 0 0 0;\n",
              "      width: 32px;\n",
              "    }\n",
              "\n",
              "    .colab-df-convert:hover {\n",
              "      background-color: #E2EBFA;\n",
              "      box-shadow: 0px 1px 2px rgba(60, 64, 67, 0.3), 0px 1px 3px 1px rgba(60, 64, 67, 0.15);\n",
              "      fill: #174EA6;\n",
              "    }\n",
              "\n",
              "    [theme=dark] .colab-df-convert {\n",
              "      background-color: #3B4455;\n",
              "      fill: #D2E3FC;\n",
              "    }\n",
              "\n",
              "    [theme=dark] .colab-df-convert:hover {\n",
              "      background-color: #434B5C;\n",
              "      box-shadow: 0px 1px 3px 1px rgba(0, 0, 0, 0.15);\n",
              "      filter: drop-shadow(0px 1px 2px rgba(0, 0, 0, 0.3));\n",
              "      fill: #FFFFFF;\n",
              "    }\n",
              "  </style>\n",
              "\n",
              "      <script>\n",
              "        const buttonEl =\n",
              "          document.querySelector('#df-f314a5a4-44cf-4549-873a-b36ac1bcd2a3 button.colab-df-convert');\n",
              "        buttonEl.style.display =\n",
              "          google.colab.kernel.accessAllowed ? 'block' : 'none';\n",
              "\n",
              "        async function convertToInteractive(key) {\n",
              "          const element = document.querySelector('#df-f314a5a4-44cf-4549-873a-b36ac1bcd2a3');\n",
              "          const dataTable =\n",
              "            await google.colab.kernel.invokeFunction('convertToInteractive',\n",
              "                                                     [key], {});\n",
              "          if (!dataTable) return;\n",
              "\n",
              "          const docLinkHtml = 'Like what you see? Visit the ' +\n",
              "            '<a target=\"_blank\" href=https://colab.research.google.com/notebooks/data_table.ipynb>data table notebook</a>'\n",
              "            + ' to learn more about interactive tables.';\n",
              "          element.innerHTML = '';\n",
              "          dataTable['output_type'] = 'display_data';\n",
              "          await google.colab.output.renderOutput(dataTable, element);\n",
              "          const docLink = document.createElement('div');\n",
              "          docLink.innerHTML = docLinkHtml;\n",
              "          element.appendChild(docLink);\n",
              "        }\n",
              "      </script>\n",
              "    </div>\n",
              "  </div>\n",
              "  "
            ]
          },
          "metadata": {},
          "execution_count": 4
        }
      ]
    },
    {
      "cell_type": "code",
      "source": [
        "labelencoder = LabelEncoder()\n",
        "y = labelencoder.fit_transform(spam['Category'])\n",
        "\n"
      ],
      "metadata": {
        "id": "p9b9BYRJl5ew"
      },
      "execution_count": 7,
      "outputs": []
    },
    {
      "cell_type": "code",
      "source": [
        "mensagens = spam['Message'].values\n",
        "X_train, X_test, y_train, y_test = train_test_split(mensagens, y, test_size=0.3)\n"
      ],
      "metadata": {
        "id": "frv0mtJwmlCp"
      },
      "execution_count": 9,
      "outputs": []
    },
    {
      "cell_type": "code",
      "source": [
        "token = Tokenizer(num_words=1000)\n",
        "token.fit_on_texts(X_train)\n",
        "\n",
        "X_train = token.texts_to_sequences(X_train)\n",
        "X_test = token.texts_to_sequences(X_test)\n"
      ],
      "metadata": {
        "id": "IzXPXCkfo-od"
      },
      "execution_count": 10,
      "outputs": []
    },
    {
      "cell_type": "code",
      "source": [
        "X_train = pad_sequences(X_train, padding=\"post\", maxlen=500)\n",
        "X_test = pad_sequences(X_test, padding=\"post\", maxlen=500)\n"
      ],
      "metadata": {
        "id": "wNpT_8ZDsndM"
      },
      "execution_count": 11,
      "outputs": []
    },
    {
      "cell_type": "code",
      "source": [
        "modelo = Sequential()\n",
        "modelo.add(Embedding(input_dim=len(token.word_index), output_dim=50, input_length=500))\n",
        "modelo.add(Flatten())\n",
        "\n",
        "modelo.add(Dense(units=8, activation=\"relu\"))\n",
        "modelo.add(Dropout(0.1))\n",
        "modelo.add(Dense(units=1, activation=\"sigmoid\"))"
      ],
      "metadata": {
        "id": "v2KrCa8AuKYF"
      },
      "execution_count": 12,
      "outputs": []
    },
    {
      "cell_type": "code",
      "source": [
        "modelo.compile(loss=\"mean_squared_error\", optimizer=\"adam\", metrics=[\"accuracy\"])\n",
        "modelo.summary()"
      ],
      "metadata": {
        "id": "PE9qvt0rwfXw",
        "colab": {
          "base_uri": "https://localhost:8080/"
        },
        "outputId": "13fff111-b3e4-433a-df66-887554311eb7"
      },
      "execution_count": 13,
      "outputs": [
        {
          "output_type": "stream",
          "name": "stdout",
          "text": [
            "Model: \"sequential\"\n",
            "_________________________________________________________________\n",
            " Layer (type)                Output Shape              Param #   \n",
            "=================================================================\n",
            " embedding (Embedding)       (None, 500, 50)           372700    \n",
            "                                                                 \n",
            " flatten (Flatten)           (None, 25000)             0         \n",
            "                                                                 \n",
            " dense (Dense)               (None, 8)                 200008    \n",
            "                                                                 \n",
            " dropout (Dropout)           (None, 8)                 0         \n",
            "                                                                 \n",
            " dense_1 (Dense)             (None, 1)                 9         \n",
            "                                                                 \n",
            "=================================================================\n",
            "Total params: 572,717\n",
            "Trainable params: 572,717\n",
            "Non-trainable params: 0\n",
            "_________________________________________________________________\n"
          ]
        }
      ]
    },
    {
      "cell_type": "code",
      "source": [
        "modelo.fit(X_train, y_train, epochs=20, batch_size=10, verbose=True, validation_data=(X_test, y_test))"
      ],
      "metadata": {
        "id": "NFv9nKBwxSug",
        "colab": {
          "base_uri": "https://localhost:8080/"
        },
        "outputId": "5d2a2f44-0e9d-4671-e19a-38ebc50df38a"
      },
      "execution_count": 14,
      "outputs": [
        {
          "output_type": "stream",
          "name": "stdout",
          "text": [
            "Epoch 1/20\n",
            "390/390 [==============================] - 4s 9ms/step - loss: 0.0577 - accuracy: 0.9274 - val_loss: 0.0214 - val_accuracy: 0.9755\n",
            "Epoch 2/20\n",
            "390/390 [==============================] - 3s 8ms/step - loss: 0.0150 - accuracy: 0.9846 - val_loss: 0.0137 - val_accuracy: 0.9833\n",
            "Epoch 3/20\n",
            "390/390 [==============================] - 3s 8ms/step - loss: 0.0102 - accuracy: 0.9910 - val_loss: 0.0120 - val_accuracy: 0.9862\n",
            "Epoch 4/20\n",
            "390/390 [==============================] - 3s 8ms/step - loss: 0.0091 - accuracy: 0.9933 - val_loss: 0.0126 - val_accuracy: 0.9868\n",
            "Epoch 5/20\n",
            "390/390 [==============================] - 3s 8ms/step - loss: 0.0079 - accuracy: 0.9946 - val_loss: 0.0124 - val_accuracy: 0.9862\n",
            "Epoch 6/20\n",
            "390/390 [==============================] - 3s 8ms/step - loss: 0.0067 - accuracy: 0.9951 - val_loss: 0.0127 - val_accuracy: 0.9862\n",
            "Epoch 7/20\n",
            "390/390 [==============================] - 3s 9ms/step - loss: 0.0061 - accuracy: 0.9951 - val_loss: 0.0129 - val_accuracy: 0.9862\n",
            "Epoch 8/20\n",
            "390/390 [==============================] - 3s 9ms/step - loss: 0.0054 - accuracy: 0.9962 - val_loss: 0.0132 - val_accuracy: 0.9856\n",
            "Epoch 9/20\n",
            "390/390 [==============================] - 3s 8ms/step - loss: 0.0055 - accuracy: 0.9951 - val_loss: 0.0144 - val_accuracy: 0.9833\n",
            "Epoch 10/20\n",
            "390/390 [==============================] - 3s 9ms/step - loss: 0.0047 - accuracy: 0.9964 - val_loss: 0.0134 - val_accuracy: 0.9856\n",
            "Epoch 11/20\n",
            "390/390 [==============================] - 3s 9ms/step - loss: 0.0048 - accuracy: 0.9959 - val_loss: 0.0143 - val_accuracy: 0.9844\n",
            "Epoch 12/20\n",
            "390/390 [==============================] - 3s 9ms/step - loss: 0.0046 - accuracy: 0.9967 - val_loss: 0.0142 - val_accuracy: 0.9856\n",
            "Epoch 13/20\n",
            "390/390 [==============================] - 3s 9ms/step - loss: 0.0039 - accuracy: 0.9972 - val_loss: 0.0151 - val_accuracy: 0.9833\n",
            "Epoch 14/20\n",
            "390/390 [==============================] - 3s 9ms/step - loss: 0.0044 - accuracy: 0.9964 - val_loss: 0.0163 - val_accuracy: 0.9821\n",
            "Epoch 15/20\n",
            "390/390 [==============================] - 3s 9ms/step - loss: 0.0037 - accuracy: 0.9972 - val_loss: 0.0142 - val_accuracy: 0.9850\n",
            "Epoch 16/20\n",
            "390/390 [==============================] - 4s 9ms/step - loss: 0.0029 - accuracy: 0.9972 - val_loss: 0.0148 - val_accuracy: 0.9844\n",
            "Epoch 17/20\n",
            "390/390 [==============================] - 3s 9ms/step - loss: 0.0031 - accuracy: 0.9967 - val_loss: 0.0147 - val_accuracy: 0.9839\n",
            "Epoch 18/20\n",
            "390/390 [==============================] - 3s 9ms/step - loss: 0.0030 - accuracy: 0.9967 - val_loss: 0.0162 - val_accuracy: 0.9833\n",
            "Epoch 19/20\n",
            "390/390 [==============================] - 5s 12ms/step - loss: 0.0028 - accuracy: 0.9972 - val_loss: 0.0145 - val_accuracy: 0.9839\n",
            "Epoch 20/20\n",
            "390/390 [==============================] - 4s 9ms/step - loss: 0.0028 - accuracy: 0.9969 - val_loss: 0.0154 - val_accuracy: 0.9833\n"
          ]
        },
        {
          "output_type": "execute_result",
          "data": {
            "text/plain": [
              "<keras.callbacks.History at 0x7f5812e673a0>"
            ]
          },
          "metadata": {},
          "execution_count": 14
        }
      ]
    },
    {
      "cell_type": "code",
      "source": [
        "loss, accuracy = modelo.evaluate(X_test, y_test)\n",
        "print(\"Loss: \", loss)\n",
        "print(\"Acurácia: \", accuracy)"
      ],
      "metadata": {
        "id": "upMSemCSyT3x",
        "colab": {
          "base_uri": "https://localhost:8080/"
        },
        "outputId": "1a47fd1c-fa3c-4276-e973-8f04c3b4f909"
      },
      "execution_count": 15,
      "outputs": [
        {
          "output_type": "stream",
          "name": "stdout",
          "text": [
            "53/53 [==============================] - 0s 3ms/step - loss: 0.0154 - accuracy: 0.9833\n",
            "Loss:  0.015393597073853016\n",
            "Acurácia:  0.9832535982131958\n"
          ]
        }
      ]
    },
    {
      "cell_type": "code",
      "source": [
        "nova_previsao = modelo.predict(X_test)\n",
        "print(nova_previsao)"
      ],
      "metadata": {
        "id": "MHrp3Adn4Tlg",
        "colab": {
          "base_uri": "https://localhost:8080/"
        },
        "outputId": "7b64c823-dfda-4731-9d4d-84e79e9ffd1e"
      },
      "execution_count": 16,
      "outputs": [
        {
          "output_type": "stream",
          "name": "stdout",
          "text": [
            "53/53 [==============================] - 0s 2ms/step\n",
            "[[8.4158834e-12]\n",
            " [9.9999213e-01]\n",
            " [9.9999923e-01]\n",
            " ...\n",
            " [1.4845166e-13]\n",
            " [7.3769003e-12]\n",
            " [3.2679785e-07]]\n"
          ]
        }
      ]
    },
    {
      "cell_type": "code",
      "source": [
        "prev = (nova_previsao > 0.5)\n",
        "print(prev)"
      ],
      "metadata": {
        "id": "yk9s-mGq4toY",
        "colab": {
          "base_uri": "https://localhost:8080/"
        },
        "outputId": "6d7f7d0d-0c53-43cc-ad4d-5db4bba69e7e"
      },
      "execution_count": 17,
      "outputs": [
        {
          "output_type": "stream",
          "name": "stdout",
          "text": [
            "[[False]\n",
            " [ True]\n",
            " [ True]\n",
            " ...\n",
            " [False]\n",
            " [False]\n",
            " [False]]\n"
          ]
        }
      ]
    },
    {
      "cell_type": "code",
      "source": [
        "cm = confusion_matrix(y_test, prev)\n",
        "print(cm)"
      ],
      "metadata": {
        "id": "Mnc94VOU5N5Q",
        "colab": {
          "base_uri": "https://localhost:8080/"
        },
        "outputId": "362f1543-33c1-450f-eff3-3ebc370312ff"
      },
      "execution_count": 18,
      "outputs": [
        {
          "output_type": "stream",
          "name": "stdout",
          "text": [
            "[[1450    2]\n",
            " [  26  194]]\n"
          ]
        }
      ]
    },
    {
      "cell_type": "code",
      "source": [],
      "metadata": {
        "id": "05-kOsMw5gLw"
      },
      "execution_count": null,
      "outputs": []
    }
  ]
}